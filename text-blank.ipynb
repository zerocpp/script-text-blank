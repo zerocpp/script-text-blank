{
 "cells": [
  {
   "cell_type": "code",
   "execution_count": 17,
   "metadata": {},
   "outputs": [],
   "source": [
    "# 输入英文文本\n",
    "text = \"\"\"[5] An experimental therapy uses a person’s weak immune system to fight deadly blood cancers. \n",
    "Stanley Riddell is a researcher at the Fred Hutchinson Cancer Research Center in the U.S. state of Washington. \n",
    "“So, that’s the one interesting thing about this. It doesn’t require repeated treatments or repetitive cycles of \n",
    "chemotherapy,” said Riddell. “That’s what I think in the future may be most important for patients—that it’s a \n",
    "single treatment instead of many months of treatment.” It has shown great promise in small trials with patients. [6] \n",
    "In one study of 35 patients with a type of leukemia, 94 percent experienced a complete remission. 50 percent \n",
    "to 80 percent of patients with other blood cancers also saw a reduction in symptoms. Riddell said, “This is \n",
    "encouraging because these are all patients who have failed all conventional therapies, including many kinds of \n",
    "bone marrow and stem cell transplants.” Immune system cells usually fight invading viruses and bacteria. They can \n",
    "also combat cancer. But they are soon overwhelmed by the disease. [7] The work by Hutchinson researchers \n",
    "increases this natural cancer-fighting ability. Using the immune system has also shown promise against skin \n",
    "cancer and some lung cancers.\n",
    "\"\"\"\n",
    "\n",
    "\n",
    "# 挖空比例\n",
    "blank_rate = 0.5\n",
    "\n",
    "# todo 标点符号单独拆出来"
   ]
  },
  {
   "cell_type": "code",
   "execution_count": 18,
   "metadata": {},
   "outputs": [
    {
     "name": "stderr",
     "output_type": "stream",
     "text": [
      "[nltk_data] Downloading package wordnet to\n",
      "[nltk_data]     C:\\Users\\song\\AppData\\Roaming\\nltk_data...\n",
      "[nltk_data]   Package wordnet is already up-to-date!\n"
     ]
    }
   ],
   "source": [
    "# 头文件\n",
    "import pandas\n",
    "import random\n",
    "import re\n",
    "\n",
    "\n",
    "import nltk\n",
    "from nltk.stem import WordNetLemmatizer\n",
    "\n",
    "# 下载WordNet词汇表（如果尚未下载）\n",
    "nltk.download('wordnet')\n",
    "\n",
    "# 初始化词形还原器\n",
    "lemmatizer = WordNetLemmatizer()\n",
    "\n",
    "# 词性\n",
    "pos_list = ['v','n','a','r'] # r = adv"
   ]
  },
  {
   "cell_type": "code",
   "execution_count": 19,
   "metadata": {},
   "outputs": [
    {
     "data": {
      "text/plain": [
       "8672"
      ]
     },
     "execution_count": 19,
     "metadata": {},
     "output_type": "execute_result"
    }
   ],
   "source": [
    "# # 加载词库\n",
    "# df = pandas.read_excel(\"20000_words调序整洁版.xlsx\", header=None)\n",
    "# coca_words = set(df[df[0]<10000][1].to_list())\n",
    "# len(coca_words)"
   ]
  },
  {
   "cell_type": "code",
   "execution_count": 30,
   "metadata": {},
   "outputs": [
    {
     "data": {
      "text/plain": [
       "10941"
      ]
     },
     "execution_count": 30,
     "metadata": {},
     "output_type": "execute_result"
    }
   ],
   "source": [
    "# 加载词库\n",
    "cocoa_words = []\n",
    "with open(\"word_dic.txt\") as fr:\n",
    "    cocoa_words = fr.readlines()\n",
    "len(coca_words)"
   ]
  },
  {
   "cell_type": "code",
   "execution_count": 20,
   "metadata": {},
   "outputs": [],
   "source": [
    "# 获得可能的原型，返回值是一个集合\n",
    "def get_base_words(word_to_check):\n",
    "    # 可能的原型\n",
    "    maybe_base_words = set()\n",
    "    # 遍历词性列表\n",
    "    for pos in pos_list:\n",
    "        # 将要检查的单词转换为其基本形式（原型）\n",
    "        base_form = lemmatizer.lemmatize(word_to_check, pos=pos)\n",
    "        maybe_base_words.add(base_form)\n",
    "    return maybe_base_words"
   ]
  },
  {
   "cell_type": "code",
   "execution_count": 21,
   "metadata": {},
   "outputs": [
    {
     "name": "stdout",
     "output_type": "stream",
     "text": [
      "[5] An experimental therapy uses a person’s weak immune system to fight deadly blood cancers. \n",
      "Stanley Riddell is a researcher at the Fred Hutchinson Cancer Research Center in the U.S. state of Washington. \n",
      "“So, that’s the one interesting thing about this. It doesn’t require repeated treatments or repetitive cycles of \n",
      "chemotherapy,” said Riddell. “That’s what I think in the future may be most important for patients—that it’s a \n",
      "single treatment instead of many months of treatment.” It has shown great promise in small trials with patients. [6] \n",
      "In one study of 35 patients with a type of leukemia, 94 percent experienced a complete remission. 50 percent \n",
      "to 80 percent of patients with other blood cancers also saw a reduction in symptoms. Riddell said, “This is \n",
      "encouraging because these are all patients who have failed all conventional therapies, including many kinds of \n",
      "bone marrow and stem cell transplants.” Immune system cells usually fight invading viruses and bacteria. They can \n",
      "also combat cancer. But they are soon overwhelmed by the disease. [7] The work by Hutchinson researchers \n",
      "increases this natural cancer-fighting ability. Using the immune system has also shown promise against skin \n",
      "cancer and some lung cancers.\n",
      "\n"
     ]
    }
   ],
   "source": [
    "# 打印原始文本\n",
    "print(f\"{text}\")"
   ]
  },
  {
   "cell_type": "code",
   "execution_count": 22,
   "metadata": {},
   "outputs": [
    {
     "name": "stdout",
     "output_type": "stream",
     "text": [
      "___ An experimental therapy ____ _ ________ ____ immune ______ to _____ ______ blood cancers. Stanley Riddell __ _ __________ at ___ Fred Hutchinson Cancer Research ______ __ ___ U.S. state __ Washington. “So, that’s ___ one ___________ thing _____ this. It doesn’t require ________ treatments __ repetitive cycles of ______________ said Riddell. “That’s ____ I _____ __ the future may be ____ important for patients—that ____ _ ______ _________ _______ of ____ months __ ___________ It has _____ _____ _______ in _____ trials with patients. ___ In one study __ __ ________ ____ a ____ __ leukemia, 94 percent ___________ a complete remission. __ percent __ 80 percent __ patients ____ other blood cancers ____ saw _ reduction in symptoms. Riddell _____ “This is ___________ _______ _____ are all patients who ____ failed all conventional __________ _________ ____ _____ __ bone ______ ___ ____ cell transplants.” Immune system cells _______ fight invading viruses ___ bacteria. ____ ___ ____ ______ cancer. But they ___ ____ overwhelmed by the disease. ___ The work by Hutchinson researchers increases this natural cancer-fighting ________ _____ ___ ______ ______ ___ also _____ _______ against ____ ______ and some ____ ________\n"
     ]
    }
   ],
   "source": [
    "# 将文本拆分成单词\n",
    "words = text.split()\n",
    "origin_words = words.copy()\n",
    "\n",
    "# 随机选择要替换的单词数量（这里选择要替换一半的单词）\n",
    "num_words_to_replace = max(0, min(len(text), int(len(words) * blank_rate)))\n",
    "# print(f\"挖空数量: {num_words_to_replace}\")\n",
    "\n",
    "# 随机选择要替换的单词的索引\n",
    "words_to_replace_indices = random.sample(range(len(words)), num_words_to_replace)\n",
    "\n",
    "# 替换选定的单词为下划线\n",
    "for index in words_to_replace_indices:\n",
    "    word = re.sub(r'[^\\w\\s]', '', words[index])\n",
    "    word = word.lower()\n",
    "    base_words = get_base_words(word)\n",
    "    if word.isnumeric() or base_words.intersection(coca_words):\n",
    "        words[index] = \"_\"*len(words[index])\n",
    "        origin_words[index] = f\"<b>{origin_words[index]}</b>\"\n",
    "\n",
    "# 重新构建文本\n",
    "filled_text = ' '.join(words)\n",
    "origin_text = ' '.join(origin_words)\n",
    "\n",
    "# 打印填空文本\n",
    "# print(f\"\\n替换文本:\\n{filled_text}\")\n",
    "print(filled_text)\n"
   ]
  },
  {
   "cell_type": "code",
   "execution_count": 23,
   "metadata": {},
   "outputs": [
    {
     "name": "stdout",
     "output_type": "stream",
     "text": [
      "<b>[5]</b> An experimental therapy <b>uses</b> <b>a</b> <b>person’s</b> <b>weak</b> immune <b>system</b> to <b>fight</b> <b>deadly</b> blood cancers. Stanley Riddell <b>is</b> <b>a</b> <b>researcher</b> at <b>the</b> Fred Hutchinson Cancer Research <b>Center</b> <b>in</b> <b>the</b> U.S. state <b>of</b> Washington. “So, that’s <b>the</b> one <b>interesting</b> thing <b>about</b> this. It doesn’t require <b>repeated</b> treatments <b>or</b> repetitive cycles of <b>chemotherapy,”</b> said Riddell. “That’s <b>what</b> I <b>think</b> <b>in</b> the future may be <b>most</b> important for patients—that <b>it’s</b> <b>a</b> <b>single</b> <b>treatment</b> <b>instead</b> of <b>many</b> months <b>of</b> <b>treatment.”</b> It has <b>shown</b> <b>great</b> <b>promise</b> in <b>small</b> trials with patients. <b>[6]</b> In one study <b>of</b> <b>35</b> <b>patients</b> <b>with</b> a <b>type</b> <b>of</b> leukemia, 94 percent <b>experienced</b> a complete remission. <b>50</b> percent <b>to</b> 80 percent <b>of</b> patients <b>with</b> other blood cancers <b>also</b> saw <b>a</b> reduction in symptoms. Riddell <b>said,</b> “This is <b>encouraging</b> <b>because</b> <b>these</b> are all patients who <b>have</b> failed all conventional <b>therapies,</b> <b>including</b> <b>many</b> <b>kinds</b> <b>of</b> bone <b>marrow</b> <b>and</b> <b>stem</b> cell transplants.” Immune system cells <b>usually</b> fight invading viruses <b>and</b> bacteria. <b>They</b> <b>can</b> <b>also</b> <b>combat</b> cancer. But they <b>are</b> <b>soon</b> overwhelmed by the disease. <b>[7]</b> The work by Hutchinson researchers increases this natural cancer-fighting <b>ability.</b> <b>Using</b> <b>the</b> <b>immune</b> <b>system</b> <b>has</b> also <b>shown</b> <b>promise</b> against <b>skin</b> <b>cancer</b> and some <b>lung</b> <b>cancers.</b>\n"
     ]
    }
   ],
   "source": [
    "# 加粗填空处\n",
    "print(origin_text)"
   ]
  }
 ],
 "metadata": {
  "kernelspec": {
   "display_name": "py311",
   "language": "python",
   "name": "python3"
  },
  "language_info": {
   "codemirror_mode": {
    "name": "ipython",
    "version": 3
   },
   "file_extension": ".py",
   "mimetype": "text/x-python",
   "name": "python",
   "nbconvert_exporter": "python",
   "pygments_lexer": "ipython3",
   "version": "3.11.5"
  }
 },
 "nbformat": 4,
 "nbformat_minor": 2
}
